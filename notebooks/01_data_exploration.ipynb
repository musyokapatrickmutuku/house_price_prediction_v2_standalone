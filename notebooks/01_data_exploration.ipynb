{
 "cells": [
  {
   "cell_type": "markdown",
   "metadata": {},
   "source": [
    "# House Price Prediction - Data Exploration\n",
    "\n",
    "This notebook provides exploratory data analysis (EDA) for the USA Real Estate dataset.\n",
    "\n",
    "## Objectives\n",
    "- Understand the dataset structure and characteristics\n",
    "- Identify data quality issues\n",
    "- Explore relationships between features and target\n",
    "- Generate insights for feature engineering"
   ]
  },
  {
   "cell_type": "code",
   "execution_count": null,
   "metadata": {},
   "outputs": [],
   "source": [
    "import pandas as pd\n",
    "import numpy as np\n",
    "import matplotlib.pyplot as plt\n",
    "import seaborn as sns\n",
    "from pathlib import Path\n",
    "\n",
    "# Set style\n",
    "plt.style.use('default')\n",
    "sns.set_palette('husl')\n",
    "\n",
    "# Configure display options\n",
    "pd.set_option('display.max_columns', None)\n",
    "pd.set_option('display.max_rows', 100)"
   ]
  },
  {
   "cell_type": "markdown",
   "metadata": {},
   "source": [
    "## 1. Data Loading"
   ]
  },
  {
   "cell_type": "code",
   "execution_count": null,
   "metadata": {},
   "outputs": [],
   "source": [
    "# Load the dataset\n",
    "data_path = \"../data/raw/df_imputed.csv\"\n",
    "\n",
    "# Check if file exists\n",
    "if Path(data_path).exists():\n",
    "    df = pd.read_csv(data_path)\n",
    "    print(f\"Dataset loaded successfully: {df.shape}\")\n",
    "else:\n",
    "    print(f\"Dataset not found at {data_path}\")\n",
    "    print(\"Please place the df_imputed.csv file in the data/raw/ directory\")"
   ]
  },
  {
   "cell_type": "markdown",
   "metadata": {},
   "source": [
    "## 2. Basic Dataset Information"
   ]
  },
  {
   "cell_type": "code",
   "execution_count": null,
   "metadata": {},
   "outputs": [],
   "source": [
    "# Dataset overview\n",
    "print(\"Dataset Info:\")\n",
    "print(df.info())\n",
    "print(\"\\nDataset Shape:\", df.shape)\n",
    "print(\"\\nColumn Names:\", list(df.columns))"
   ]
  },
  {
   "cell_type": "code",
   "execution_count": null,
   "metadata": {},
   "outputs": [],
   "source": [
    "# First few rows\n",
    "df.head()"
   ]
  },
  {
   "cell_type": "code",
   "execution_count": null,
   "metadata": {},
   "outputs": [],
   "source": [
    "# Basic statistics\n",
    "df.describe()"
   ]
  },
  {
   "cell_type": "markdown",
   "metadata": {},
   "source": [
    "## 3. Data Quality Assessment"
   ]
  },
  {
   "cell_type": "code",
   "execution_count": null,
   "metadata": {},
   "outputs": [],
   "source": [
    "# Missing values\n",
    "missing_data = df.isnull().sum()\n",
    "missing_percentage = (missing_data / len(df)) * 100\n",
    "\n",
    "missing_summary = pd.DataFrame({\n",
    "    'Missing Count': missing_data,\n",
    "    'Missing Percentage': missing_percentage\n",
    "}).sort_values('Missing Count', ascending=False)\n",
    "\n",
    "print(\"Missing Values Summary:\")\n",
    "print(missing_summary[missing_summary['Missing Count'] > 0])"
   ]
  },
  {
   "cell_type": "markdown",
   "metadata": {},
   "source": [
    "## 4. Target Variable Analysis"
   ]
  },
  {
   "cell_type": "code",
   "execution_count": null,
   "metadata": {},
   "outputs": [],
   "source": [
    "# Price distribution\n",
    "fig, axes = plt.subplots(2, 2, figsize=(15, 10))\n",
    "\n",
    "# Original price distribution\n",
    "axes[0,0].hist(df['price'], bins=50, alpha=0.7, edgecolor='black')\n",
    "axes[0,0].set_title('Price Distribution')\n",
    "axes[0,0].set_xlabel('Price ($)')\n",
    "axes[0,0].set_ylabel('Frequency')\n",
    "\n",
    "# Log-transformed price\n",
    "axes[0,1].hist(np.log1p(df['price']), bins=50, alpha=0.7, edgecolor='black')\n",
    "axes[0,1].set_title('Log-Transformed Price Distribution')\n",
    "axes[0,1].set_xlabel('Log(Price)')\n",
    "axes[0,1].set_ylabel('Frequency')\n",
    "\n",
    "# Box plot\n",
    "axes[1,0].boxplot(df['price'])\n",
    "axes[1,0].set_title('Price Box Plot')\n",
    "axes[1,0].set_ylabel('Price ($)')\n",
    "\n",
    "# Price statistics by state (top 10)\n",
    "top_states = df['state'].value_counts().head(10).index\n",
    "state_prices = df[df['state'].isin(top_states)]\n",
    "axes[1,1].boxplot([state_prices[state_prices['state'] == state]['price'] for state in top_states])\n",
    "axes[1,1].set_title('Price Distribution by State (Top 10)')\n",
    "axes[1,1].set_xticklabels(top_states, rotation=45)\n",
    "axes[1,1].set_ylabel('Price ($)')\n",
    "\n",
    "plt.tight_layout()\n",
    "plt.show()"
   ]
  },
  {
   "cell_type": "markdown",
   "metadata": {},
   "source": [
    "## 5. Feature Analysis"
   ]
  },
  {
   "cell_type": "code",
   "execution_count": null,
   "metadata": {},
   "outputs": [],
   "source": [
    "# Numerical features analysis\n",
    "numerical_cols = ['bed', 'bath', 'acre_lot', 'house_size']\n",
    "\n",
    "fig, axes = plt.subplots(2, 2, figsize=(15, 10))\n",
    "axes = axes.ravel()\n",
    "\n",
    "for i, col in enumerate(numerical_cols):\n",
    "    axes[i].hist(df[col], bins=30, alpha=0.7, edgecolor='black')\n",
    "    axes[i].set_title(f'{col.replace(\"_\", \" \").title()} Distribution')\n",
    "    axes[i].set_xlabel(col.replace('_', ' ').title())\n",
    "    axes[i].set_ylabel('Frequency')\n",
    "\n",
    "plt.tight_layout()\n",
    "plt.show()"
   ]
  },
  {
   "cell_type": "markdown",
   "metadata": {},
   "source": [
    "## 6. Correlation Analysis"
   ]
  },
  {
   "cell_type": "code",
   "execution_count": null,
   "metadata": {},
   "outputs": [],
   "source": [
    "# Correlation matrix for numerical features\n",
    "numerical_features = ['price', 'bed', 'bath', 'acre_lot', 'house_size']\n",
    "correlation_matrix = df[numerical_features].corr()\n",
    "\n",
    "plt.figure(figsize=(10, 8))\n",
    "sns.heatmap(correlation_matrix, annot=True, cmap='coolwarm', center=0, \n",
    "            square=True, fmt='.3f')\n",
    "plt.title('Correlation Matrix - Numerical Features')\n",
    "plt.tight_layout()\n",
    "plt.show()"
   ]
  },
  {
   "cell_type": "markdown",
   "metadata": {},
   "source": [
    "## 7. Categorical Features Analysis"
   ]
  },
  {
   "cell_type": "code",
   "execution_count": null,
   "metadata": {},
   "outputs": [],
   "source": [
    "# Categorical feature cardinality\n",
    "categorical_cols = ['city', 'state', 'status']\n",
    "\n",
    "print(\"Categorical Feature Cardinality:\")\n",
    "for col in categorical_cols:\n",
    "    unique_count = df[col].nunique()\n",
    "    print(f\"{col}: {unique_count} unique values\")\n",
    "    \n",
    "    # Show top categories\n",
    "    top_categories = df[col].value_counts().head(10)\n",
    "    print(f\"Top categories in {col}:\")\n",
    "    print(top_categories)\n",
    "    print()"
   ]
  },
  {
   "cell_type": "markdown",
   "metadata": {},
   "source": [
    "## 8. Feature-Target Relationships"
   ]
  },
  {
   "cell_type": "code",
   "execution_count": null,
   "metadata": {},
   "outputs": [],
   "source": [
    "# Scatter plots of numerical features vs price\n",
    "fig, axes = plt.subplots(2, 2, figsize=(15, 10))\n",
    "axes = axes.ravel()\n",
    "\n",
    "for i, col in enumerate(numerical_cols):\n",
    "    # Sample data for plotting (to avoid overcrowding)\n",
    "    sample_df = df.sample(n=min(10000, len(df)), random_state=42)\n",
    "    \n",
    "    axes[i].scatter(sample_df[col], sample_df['price'], alpha=0.5)\n",
    "    axes[i].set_xlabel(col.replace('_', ' ').title())\n",
    "    axes[i].set_ylabel('Price ($)')\n",
    "    axes[i].set_title(f'Price vs {col.replace(\"_\", \" \").title()}')\n",
    "\n",
    "plt.tight_layout()\n",
    "plt.show()"
   ]
  },
  {
   "cell_type": "markdown",
   "metadata": {},
   "source": [
    "## 9. Outlier Detection"
   ]
  },
  {
   "cell_type": "code",
   "execution_count": null,
   "metadata": {},
   "outputs": [],
   "source": [
    "# Outlier analysis using IQR method\n",
    "def detect_outliers_iqr(df, column):\n",
    "    Q1 = df[column].quantile(0.25)\n",
    "    Q3 = df[column].quantile(0.75)\n",
    "    IQR = Q3 - Q1\n",
    "    lower_bound = Q1 - 1.5 * IQR\n",
    "    upper_bound = Q3 + 1.5 * IQR\n",
    "    \n",
    "    outliers = df[(df[column] < lower_bound) | (df[column] > upper_bound)]\n",
    "    return outliers, lower_bound, upper_bound\n",
    "\n",
    "print(\"Outlier Analysis:\")\n",
    "for col in numerical_features:\n",
    "    outliers, lower, upper = detect_outliers_iqr(df, col)\n",
    "    outlier_percentage = (len(outliers) / len(df)) * 100\n",
    "    \n",
    "    print(f\"{col}:\")\n",
    "    print(f\"  Outliers: {len(outliers)} ({outlier_percentage:.2f}%)\")\n",
    "    print(f\"  Bounds: [{lower:.2f}, {upper:.2f}]\")\n",
    "    print(f\"  Range: [{df[col].min():.2f}, {df[col].max():.2f}]\")\n",
    "    print()"
   ]
  },
  {
   "cell_type": "markdown",
   "metadata": {},
   "source": [
    "## 10. Key Insights and Recommendations\n",
    "\n",
    "Based on the exploratory analysis, document key findings and recommendations for:\n",
    "- Data preprocessing steps\n",
    "- Feature engineering opportunities\n",
    "- Model selection considerations\n",
    "- Potential data quality issues to address"
   ]
  },
  {
   "cell_type": "code",
   "execution_count": null,
   "metadata": {},
   "outputs": [],
   "source": [
    "# Summary statistics\n",
    "print(\"=== DATA EXPLORATION SUMMARY ===\")\n",
    "print(f\"Dataset size: {df.shape[0]:,} rows, {df.shape[1]} columns\")\n",
    "print(f\"Target variable (price) range: ${df['price'].min():,.0f} - ${df['price'].max():,.0f}\")\n",
    "print(f\"Median price: ${df['price'].median():,.0f}\")\n",
    "print(f\"Missing values: {df.isnull().sum().sum()} total\")\n",
    "print(f\"Categorical features with high cardinality: {[col for col in categorical_cols if df[col].nunique() > 1000]}\")\n",
    "\n",
    "# Feature correlation with target\n",
    "price_correlations = df[numerical_features].corr()['price'].sort_values(ascending=False)\n",
    "print(f\"\\nFeatures most correlated with price:\")\n",
    "for feature, corr in price_correlations.items():\n",
    "    if feature != 'price':\n",
    "        print(f\"  {feature}: {corr:.3f}\")"
   ]
  }
 ],
 "metadata": {
  "kernelspec": {
   "display_name": "Python 3",
   "language": "python",
   "name": "python3"
  },
  "language_info": {
   "codemirror_mode": {
    "name": "ipython",
    "version": 3
   },
   "file_extension": ".py",
   "mimetype": "text/x-python",
   "name": "python",
   "nbconvert_exporter": "python",
   "pygments_lexer": "ipython3",
   "version": "3.8.0"
  }
 },
 "nbformat": 4,
 "nbformat_minor": 4
}